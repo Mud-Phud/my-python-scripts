{
 "cells": [
  {
   "cell_type": "markdown",
   "metadata": {},
   "source": [
    "# Higher order numerical differentiation #\n",
    "\n",
    "We have the formula for the first derivative approximation:\n",
    "$$f^\\prime (x)\\approx \\frac{f(x+h)-f(x)}{h}$$\n",
    "This is due to the Taylor series expansion:\n",
    "$$\n",
    "f(x+h)=f(x)+f{^\\prime} (x)\\frac{h}{1}+\n",
    "f^{\\prime\\prime} (x)\\frac{h^2}{2!}+\n",
    "f^{\\prime\\prime\\prime} (x)\\frac{h^3}{3!}+\\cdots \n",
    "$$\n",
    "and for the above formula, we ignore terms $o(h^2)$. "
   ]
  },
  {
   "cell_type": "markdown",
   "metadata": {},
   "source": [
    "We can approximate the second derivative as follows. We take the formulae:\n",
    "$$f(x+h)\\approx f(x)+f^\\prime (x){h}+f^{\\prime\\prime} (x)\\frac{h^2}{2!}$$\n",
    "$$f(x-h)\\approx f(x)-f^\\prime (x){h}+f^{\\prime\\prime} (x)\\frac{h^2}{2!}$$\n",
    "We can think of this as two equations in the two unknowns $f^\\prime (x)$ and $f^{\\prime\\prime} (x)$, where we are\n",
    "really interested in the solution of $f^{\\prime\\prime} (x)$. This trivially solved because we can add the equations and eliminate the $f^\\prime (x)$ term. \n",
    "$$\n",
    "f(x+h)+f(x-h)=2f(x)+f^{\\prime\\prime} (x)h^2\n",
    "$$\n",
    "or \n",
    "$$\n",
    "f^{\\prime\\prime} (x)=\\frac{f(x+h)+f(x-h)-2f(x) }{h^2 }\n",
    "$$\n",
    "This result is fairly well known. How about the higher derivatives?\n"
   ]
  },
  {
   "cell_type": "markdown",
   "metadata": {},
   "source": [
    "We write the equations in matrix form:\n",
    "$$\n",
    "\\left(\\begin{array}{cc}\n",
    "h & \\frac{h^{2}}{2!}\\\\\n",
    "-h & \\frac{h^{2}}{2!}\n",
    "\\end{array}\\right)\n",
    "\\left(\\begin{array}{c}\n",
    "f^{\\prime}(x)\\\\\n",
    "f^{\\prime\\prime}(x)\n",
    "\\end{array}\\right)\n",
    "=\n",
    "\\left(\\begin{array}{c}\n",
    "f(x+h)-f(x)\\\\\n",
    "f(x-h)-f(x)\n",
    "\\end{array}\\right)\n",
    "$$\n",
    "so\n",
    "$$\n",
    "\\left(\\begin{array}{c}\n",
    "f^{\\prime}(x)\\\\\n",
    "f^{\\prime\\prime}(x)\n",
    "\\end{array}\\right)\n",
    "=\n",
    "\\left(\\begin{array}{cc}\n",
    "h & \\frac{h^{2}}{2!}\\\\\n",
    "-h & \\frac{h^{2}}{2!}\n",
    "\\end{array}\\right)^{-1}\n",
    "\\left(\\begin{array}{c}\n",
    "f(x+h)-f(x)\\\\\n",
    "f(x-h)-f(x)\n",
    "\\end{array}\\right)\n",
    "$$\n",
    "\n",
    "\n",
    "We could use sympy to solve for these variables.\n"
   ]
  },
  {
   "cell_type": "code",
   "execution_count": 35,
   "metadata": {},
   "outputs": [],
   "source": [
    "# borrowed code from https://stackoverflow.com/questions/4239205/inverse-of-a-matrix-in-sympy\n",
    "\n",
    "import sympy as sym\n",
    "\n",
    "\n",
    "\n",
    "# Not necessary but gives nice-looking latex output\n",
    "# More info at: http://docs.sympy.org/latest/tutorial/printing.html\n",
    "sym.init_printing()\n",
    "\n",
    "h = sym.symbols('h')\n",
    "\n",
    "matrix = sym.Matrix([[h, h**2/2],[-h, h**2/2]])"
   ]
  },
  {
   "cell_type": "code",
   "execution_count": 36,
   "metadata": {},
   "outputs": [
    {
     "data": {
      "image/png": "[encoded data removed]",
      "text/latex": [
       "$\\displaystyle \\left[\\begin{matrix}h & \\frac{h^{2}}{2}\\\\- h & \\frac{h^{2}}{2}\\end{matrix}\\right]$"
      ],
      "text/plain": [
       "⎡     2⎤\n",
       "⎢    h ⎥\n",
       "⎢h   ──⎥\n",
       "⎢    2 ⎥\n",
       "⎢      ⎥\n",
       "⎢     2⎥\n",
       "⎢    h ⎥\n",
       "⎢-h  ──⎥\n",
       "⎣    2 ⎦"
      ]
     },
     "execution_count": 36,
     "metadata": {},
     "output_type": "execute_result"
    }
   ],
   "source": [
    "matrix"
   ]
  },
  {
   "cell_type": "code",
   "execution_count": 39,
   "metadata": {},
   "outputs": [
    {
     "data": {
      "image/png": "[encoded data removed]",
      "text/latex": [
       "$\\displaystyle \\left[\\begin{matrix}\\frac{1}{2 h} & - \\frac{1}{2 h}\\\\\\frac{1}{h^{2}} & \\frac{1}{h^{2}}\\end{matrix}\\right]$"
      ],
      "text/plain": [
       "⎡ 1   -1 ⎤\n",
       "⎢───  ───⎥\n",
       "⎢2⋅h  2⋅h⎥\n",
       "⎢        ⎥\n",
       "⎢1    1  ⎥\n",
       "⎢──   ── ⎥\n",
       "⎢ 2    2 ⎥\n",
       "⎣h    h  ⎦"
      ]
     },
     "execution_count": 39,
     "metadata": {},
     "output_type": "execute_result"
    }
   ],
   "source": [
    "matrix.inv()"
   ]
  },
  {
   "cell_type": "code",
   "execution_count": 41,
   "metadata": {},
   "outputs": [
    {
     "data": {
      "image/png": "[encoded data removed]",
      "text/latex": [
       "$\\displaystyle \\left[\\begin{matrix}2 h & 2 h^{2} & \\frac{4 h^{3}}{3} & \\frac{2 h^{4}}{3}\\\\h & \\frac{h^{2}}{2} & \\frac{h^{3}}{6} & \\frac{h^{4}}{24}\\\\- h & \\frac{h^{2}}{2} & - \\frac{h^{3}}{6} & \\frac{h^{4}}{24}\\\\- 2 h & 2 h^{2} & - \\frac{4 h^{3}}{3} & \\frac{2 h^{4}}{3}\\end{matrix}\\right]$"
      ],
      "text/plain": [
       "⎡                3      4⎤\n",
       "⎢         2   4⋅h    2⋅h ⎥\n",
       "⎢2⋅h   2⋅h    ────   ────⎥\n",
       "⎢              3      3  ⎥\n",
       "⎢                        ⎥\n",
       "⎢        2      3      4 ⎥\n",
       "⎢       h      h      h  ⎥\n",
       "⎢ h     ──     ──     ── ⎥\n",
       "⎢       2      6      24 ⎥\n",
       "⎢                        ⎥\n",
       "⎢        2      3      4 ⎥\n",
       "⎢       h     -h      h  ⎥\n",
       "⎢ -h    ──    ────    ── ⎥\n",
       "⎢       2      6      24 ⎥\n",
       "⎢                        ⎥\n",
       "⎢                3      4⎥\n",
       "⎢         2  -4⋅h    2⋅h ⎥\n",
       "⎢-2⋅h  2⋅h   ──────  ────⎥\n",
       "⎣              3      3  ⎦"
      ]
     },
     "execution_count": 41,
     "metadata": {},
     "output_type": "execute_result"
    }
   ],
   "source": [
    "matrix = sym.Matrix([[2*h,(2*h)**2/2,(2*h)**3/6,(2*h)**4/24],\n",
    "                    [h,h**2/2,h**3/6,h**4/24],\n",
    "                    [-h,h**2/2,-h**3/6,h**4/24],\n",
    "                    [-2*h,(2*h)**2/2,-(2*h)**3/6,(2*h)**4/24]])\n",
    "matrix"
   ]
  },
  {
   "cell_type": "code",
   "execution_count": 42,
   "metadata": {},
   "outputs": [
    {
     "data": {
      "image/png": "[encoded data removed]",
      "text/latex": [
       "$\\displaystyle \\left[\\begin{matrix}- \\frac{1}{12 h} & \\frac{2}{3 h} & - \\frac{2}{3 h} & \\frac{1}{12 h}\\\\- \\frac{1}{12 h^{2}} & \\frac{4}{3 h^{2}} & \\frac{4}{3 h^{2}} & - \\frac{1}{12 h^{2}}\\\\\\frac{1}{2 h^{3}} & - \\frac{1}{h^{3}} & \\frac{1}{h^{3}} & - \\frac{1}{2 h^{3}}\\\\\\frac{1}{h^{4}} & - \\frac{4}{h^{4}} & - \\frac{4}{h^{4}} & \\frac{1}{h^{4}}\\end{matrix}\\right]$"
      ],
      "text/plain": [
       "⎡-1      2    -2     1   ⎤\n",
       "⎢────   ───   ───   ──── ⎥\n",
       "⎢12⋅h   3⋅h   3⋅h   12⋅h ⎥\n",
       "⎢                        ⎥\n",
       "⎢ -1     4     4     -1  ⎥\n",
       "⎢─────  ────  ────  ─────⎥\n",
       "⎢    2     2     2      2⎥\n",
       "⎢12⋅h   3⋅h   3⋅h   12⋅h ⎥\n",
       "⎢                        ⎥\n",
       "⎢ 1     -1     1    -1   ⎥\n",
       "⎢────   ───    ──   ──── ⎥\n",
       "⎢   3     3     3      3 ⎥\n",
       "⎢2⋅h     h     h    2⋅h  ⎥\n",
       "⎢                        ⎥\n",
       "⎢ 1     -4    -4     1   ⎥\n",
       "⎢ ──    ───   ───    ──  ⎥\n",
       "⎢  4      4     4     4  ⎥\n",
       "⎣ h      h     h     h   ⎦"
      ]
     },
     "execution_count": 42,
     "metadata": {},
     "output_type": "execute_result"
    }
   ],
   "source": [
    "matrix.inv()"
   ]
  },
  {
   "cell_type": "code",
   "execution_count": 51,
   "metadata": {},
   "outputs": [
    {
     "data": {
      "image/png": "[encoded data removed]",
      "text/latex": [
       "$\\displaystyle \\left[\\begin{matrix}1 & 0 & 0 & 0 & 0 & 0 & 0 & 0\\\\0 & 1 & 0 & 0 & 0 & 0 & 0 & 0\\\\0 & 0 & 1 & 0 & 0 & 0 & 0 & 0\\\\0 & 0 & 0 & 1 & 0 & 0 & 0 & 0\\\\0 & 0 & 0 & 0 & 1 & 0 & 0 & 0\\\\0 & 0 & 0 & 0 & 0 & 1 & 0 & 0\\\\0 & 0 & 0 & 0 & 0 & 0 & 1 & 0\\\\0 & 0 & 0 & 0 & 0 & 0 & 0 & 1\\end{matrix}\\right]$"
      ],
      "text/plain": [
       "⎡1  0  0  0  0  0  0  0⎤\n",
       "⎢                      ⎥\n",
       "⎢0  1  0  0  0  0  0  0⎥\n",
       "⎢                      ⎥\n",
       "⎢0  0  1  0  0  0  0  0⎥\n",
       "⎢                      ⎥\n",
       "⎢0  0  0  1  0  0  0  0⎥\n",
       "⎢                      ⎥\n",
       "⎢0  0  0  0  1  0  0  0⎥\n",
       "⎢                      ⎥\n",
       "⎢0  0  0  0  0  1  0  0⎥\n",
       "⎢                      ⎥\n",
       "⎢0  0  0  0  0  0  1  0⎥\n",
       "⎢                      ⎥\n",
       "⎣0  0  0  0  0  0  0  1⎦"
      ]
     },
     "execution_count": 51,
     "metadata": {},
     "output_type": "execute_result"
    }
   ],
   "source": [
    "matrix * matrix.inv()"
   ]
  },
  {
   "cell_type": "markdown",
   "metadata": {},
   "source": [
    "We obtain:\n",
    "\\begin{align*}\n",
    "f^{\\prime\\prime\\prime\\prime}(x) & =\\frac{\\left(f(x+2h)-f(x)\\right)-4\\left(f(x+h)-f(x)\\right)-4\\left(f(x-h)-f(x)\\right)+\\left(f(x-2h)-f(h)\\right)}{h^{4}}\\\\\n",
    " & =\\frac{f(x+2h)-4f(x+h)-4f(x-h)+f(x-2h)-6f(x)}{h^{4}}\n",
    "\\end{align*}\n"
   ]
  },
  {
   "cell_type": "code",
   "execution_count": 46,
   "metadata": {},
   "outputs": [
    {
     "data": {
      "image/png": "[encoded data removed]",
      "text/latex": [
       "$\\displaystyle \\left[\\begin{matrix}3 h & \\frac{9 h^{2}}{2} & \\frac{9 h^{3}}{2} & \\frac{27 h^{4}}{8} & \\frac{81 h^{5}}{40} & \\frac{81 h^{6}}{80}\\\\2 h & 2 h^{2} & \\frac{4 h^{3}}{3} & \\frac{2 h^{4}}{3} & \\frac{4 h^{5}}{15} & \\frac{4 h^{6}}{45}\\\\h & \\frac{h^{2}}{2} & \\frac{h^{3}}{6} & \\frac{h^{4}}{24} & \\frac{h^{5}}{120} & \\frac{h^{6}}{720}\\\\- h & \\frac{h^{2}}{2} & - \\frac{h^{3}}{6} & \\frac{h^{4}}{24} & - \\frac{h^{5}}{120} & \\frac{h^{6}}{720}\\\\- 2 h & 2 h^{2} & - \\frac{4 h^{3}}{3} & \\frac{2 h^{4}}{3} & - \\frac{4 h^{5}}{15} & \\frac{4 h^{6}}{45}\\\\- 3 h & \\frac{9 h^{2}}{2} & - \\frac{9 h^{3}}{2} & \\frac{27 h^{4}}{8} & - \\frac{81 h^{5}}{40} & \\frac{81 h^{6}}{80}\\end{matrix}\\right]$"
      ],
      "text/plain": [
       "⎡         2      3       4       5       6⎤\n",
       "⎢      9⋅h    9⋅h    27⋅h    81⋅h    81⋅h ⎥\n",
       "⎢3⋅h   ────   ────   ─────   ─────   ─────⎥\n",
       "⎢       2      2       8       40      80 ⎥\n",
       "⎢                                         ⎥\n",
       "⎢                3      4       5       6 ⎥\n",
       "⎢         2   4⋅h    2⋅h     4⋅h     4⋅h  ⎥\n",
       "⎢2⋅h   2⋅h    ────   ────    ────    ──── ⎥\n",
       "⎢              3      3       15      45  ⎥\n",
       "⎢                                         ⎥\n",
       "⎢        2      3      4        5       6 ⎥\n",
       "⎢       h      h      h        h       h  ⎥\n",
       "⎢ h     ──     ──     ──      ───     ─── ⎥\n",
       "⎢       2      6      24      120     720 ⎥\n",
       "⎢                                         ⎥\n",
       "⎢        2      3      4       5        6 ⎥\n",
       "⎢       h     -h      h      -h        h  ⎥\n",
       "⎢ -h    ──    ────    ──     ────     ─── ⎥\n",
       "⎢       2      6      24     120      720 ⎥\n",
       "⎢                                         ⎥\n",
       "⎢                3      4       5       6 ⎥\n",
       "⎢         2  -4⋅h    2⋅h    -4⋅h     4⋅h  ⎥\n",
       "⎢-2⋅h  2⋅h   ──────  ────   ──────   ──── ⎥\n",
       "⎢              3      3       15      45  ⎥\n",
       "⎢                                         ⎥\n",
       "⎢         2      3       4       5       6⎥\n",
       "⎢      9⋅h   -9⋅h    27⋅h   -81⋅h    81⋅h ⎥\n",
       "⎢-3⋅h  ────  ──────  ─────  ───────  ─────⎥\n",
       "⎣       2      2       8       40      80 ⎦"
      ]
     },
     "execution_count": 46,
     "metadata": {},
     "output_type": "execute_result"
    }
   ],
   "source": [
    "matrix = sym.Matrix([\n",
    "                    [3*h,(3*h)**2/2,(3*h)**3/6,(3*h)**4/24,(3*h)**5/120,(3*h)**6/720],\n",
    "                    [2*h,(2*h)**2/2,(2*h)**3/6,(2*h)**4/24,(2*h)**5/120,(2*h)**6/720],\n",
    "                    [h,h**2/2,h**3/6,h**4/24,h**5/120,h**6/720],\n",
    "                    [-h,h**2/2,-h**3/6,h**4/24,-h**5/120,h**6/720],\n",
    "                    [-2*h,(2*h)**2/2,-(2*h)**3/6,(2*h)**4/24,-(2*h)**5/120,(2*h)**6/720],\n",
    "                    [-3*h,(3*h)**2/2,-(3*h)**3/6,(3*h)**4/24,-(3*h)**5/120,(3*h)**6/720],\n",
    "                    ])\n",
    "matrix"
   ]
  },
  {
   "cell_type": "code",
   "execution_count": 47,
   "metadata": {},
   "outputs": [
    {
     "data": {
      "image/png": "[encoded data removed]",
      "text/latex": [
       "$\\displaystyle \\left[\\begin{matrix}\\frac{1}{60 h} & - \\frac{3}{20 h} & \\frac{3}{4 h} & - \\frac{3}{4 h} & \\frac{3}{20 h} & - \\frac{1}{60 h}\\\\\\frac{1}{90 h^{2}} & - \\frac{3}{20 h^{2}} & \\frac{3}{2 h^{2}} & \\frac{3}{2 h^{2}} & - \\frac{3}{20 h^{2}} & \\frac{1}{90 h^{2}}\\\\- \\frac{1}{8 h^{3}} & \\frac{1}{h^{3}} & - \\frac{13}{8 h^{3}} & \\frac{13}{8 h^{3}} & - \\frac{1}{h^{3}} & \\frac{1}{8 h^{3}}\\\\- \\frac{1}{6 h^{4}} & \\frac{2}{h^{4}} & - \\frac{13}{2 h^{4}} & - \\frac{13}{2 h^{4}} & \\frac{2}{h^{4}} & - \\frac{1}{6 h^{4}}\\\\\\frac{1}{2 h^{5}} & - \\frac{2}{h^{5}} & \\frac{5}{2 h^{5}} & - \\frac{5}{2 h^{5}} & \\frac{2}{h^{5}} & - \\frac{1}{2 h^{5}}\\\\\\frac{1}{h^{6}} & - \\frac{6}{h^{6}} & \\frac{15}{h^{6}} & \\frac{15}{h^{6}} & - \\frac{6}{h^{6}} & \\frac{1}{h^{6}}\\end{matrix}\\right]$"
      ],
      "text/plain": [
       "⎡ 1     -3      3    -3     3     -1   ⎤\n",
       "⎢────   ────   ───   ───   ────   ──── ⎥\n",
       "⎢60⋅h   20⋅h   4⋅h   4⋅h   20⋅h   60⋅h ⎥\n",
       "⎢                                      ⎥\n",
       "⎢  1     -3     3     3     -3      1  ⎥\n",
       "⎢─────  ─────  ────  ────  ─────  ─────⎥\n",
       "⎢    2      2     2     2      2      2⎥\n",
       "⎢90⋅h   20⋅h   2⋅h   2⋅h   20⋅h   90⋅h ⎥\n",
       "⎢                                      ⎥\n",
       "⎢-1      1     -13    13    -1     1   ⎥\n",
       "⎢────    ──    ────  ────   ───   ──── ⎥\n",
       "⎢   3     3       3     3     3      3 ⎥\n",
       "⎢8⋅h     h     8⋅h   8⋅h     h    8⋅h  ⎥\n",
       "⎢                                      ⎥\n",
       "⎢-1      2     -13   -13    2     -1   ⎥\n",
       "⎢────    ──    ────  ────   ──    ──── ⎥\n",
       "⎢   4     4       4     4    4       4 ⎥\n",
       "⎢6⋅h     h     2⋅h   2⋅h    h     6⋅h  ⎥\n",
       "⎢                                      ⎥\n",
       "⎢ 1      -2     5    -5     2     -1   ⎥\n",
       "⎢────    ───   ────  ────   ──    ──── ⎥\n",
       "⎢   5      5      5     5    5       5 ⎥\n",
       "⎢2⋅h      h    2⋅h   2⋅h    h     2⋅h  ⎥\n",
       "⎢                                      ⎥\n",
       "⎢ 1      -6     15    15    -6     1   ⎥\n",
       "⎢ ──     ───    ──    ──    ───    ──  ⎥\n",
       "⎢  6       6     6     6      6     6  ⎥\n",
       "⎣ h       h     h     h      h     h   ⎦"
      ]
     },
     "execution_count": 47,
     "metadata": {},
     "output_type": "execute_result"
    }
   ],
   "source": [
    "matrix.inv()"
   ]
  },
  {
   "cell_type": "code",
   "execution_count": 49,
   "metadata": {},
   "outputs": [
    {
     "data": {
      "image/png": "[encoded data removed]",
      "text/latex": [
       "$\\displaystyle \\left[\\begin{matrix}4 h & 8 h^{2} & \\frac{32 h^{3}}{3} & \\frac{32 h^{4}}{3} & \\frac{128 h^{5}}{15} & \\frac{256 h^{6}}{45} & \\frac{1024 h^{7}}{315} & \\frac{512 h^{8}}{315}\\\\3 h & \\frac{9 h^{2}}{2} & \\frac{9 h^{3}}{2} & \\frac{27 h^{4}}{8} & \\frac{81 h^{5}}{40} & \\frac{81 h^{6}}{80} & \\frac{243 h^{7}}{560} & \\frac{729 h^{8}}{4480}\\\\2 h & 2 h^{2} & \\frac{4 h^{3}}{3} & \\frac{2 h^{4}}{3} & \\frac{4 h^{5}}{15} & \\frac{4 h^{6}}{45} & \\frac{8 h^{7}}{315} & \\frac{2 h^{8}}{315}\\\\h & \\frac{h^{2}}{2} & \\frac{h^{3}}{6} & \\frac{h^{4}}{24} & \\frac{h^{5}}{120} & \\frac{h^{6}}{720} & \\frac{h^{7}}{5040} & \\frac{h^{8}}{40320}\\\\- h & \\frac{h^{2}}{2} & - \\frac{h^{3}}{6} & \\frac{h^{4}}{24} & - \\frac{h^{5}}{120} & \\frac{h^{6}}{720} & - \\frac{h^{7}}{5040} & \\frac{h^{8}}{40320}\\\\- 2 h & 2 h^{2} & - \\frac{4 h^{3}}{3} & \\frac{2 h^{4}}{3} & - \\frac{4 h^{5}}{15} & \\frac{4 h^{6}}{45} & - \\frac{8 h^{7}}{315} & \\frac{2 h^{8}}{315}\\\\- 3 h & \\frac{9 h^{2}}{2} & - \\frac{9 h^{3}}{2} & \\frac{27 h^{4}}{8} & - \\frac{81 h^{5}}{40} & \\frac{81 h^{6}}{80} & - \\frac{243 h^{7}}{560} & \\frac{729 h^{8}}{4480}\\\\- 4 h & 8 h^{2} & - \\frac{32 h^{3}}{3} & \\frac{32 h^{4}}{3} & - \\frac{128 h^{5}}{15} & \\frac{256 h^{6}}{45} & - \\frac{1024 h^{7}}{315} & \\frac{512 h^{8}}{315}\\end{matrix}\\right]$"
      ],
      "text/plain": [
       "⎡                 3       4        5        6         7        8⎤\n",
       "⎢         2   32⋅h    32⋅h    128⋅h    256⋅h    1024⋅h    512⋅h ⎥\n",
       "⎢4⋅h   8⋅h    ─────   ─────   ──────   ──────   ───────   ──────⎥\n",
       "⎢               3       3       15       45       315      315  ⎥\n",
       "⎢                                                               ⎥\n",
       "⎢         2      3        4       5        6         7         8⎥\n",
       "⎢      9⋅h    9⋅h     27⋅h    81⋅h     81⋅h     243⋅h     729⋅h ⎥\n",
       "⎢3⋅h   ────   ────    ─────   ─────    ─────    ──────    ──────⎥\n",
       "⎢       2      2        8       40       80      560       4480 ⎥\n",
       "⎢                                                               ⎥\n",
       "⎢                3       4        5        6        7         8 ⎥\n",
       "⎢         2   4⋅h     2⋅h      4⋅h      4⋅h      8⋅h       2⋅h  ⎥\n",
       "⎢2⋅h   2⋅h    ────    ────     ────     ────     ────      ──── ⎥\n",
       "⎢              3       3        15       45      315       315  ⎥\n",
       "⎢                                                               ⎥\n",
       "⎢        2      3       4        5        6        7         8  ⎥\n",
       "⎢       h      h       h        h        h        h         h   ⎥\n",
       "⎢ h     ──     ──      ──      ───      ───      ────     ───── ⎥\n",
       "⎢       2      6       24      120      720      5040     40320 ⎥\n",
       "⎢                                                               ⎥\n",
       "⎢        2      3       4        5        6        7         8  ⎥\n",
       "⎢       h     -h       h       -h        h       -h         h   ⎥\n",
       "⎢ -h    ──    ────     ──      ────     ───      ────     ───── ⎥\n",
       "⎢       2      6       24      120      720      5040     40320 ⎥\n",
       "⎢                                                               ⎥\n",
       "⎢                3       4        5        6        7         8 ⎥\n",
       "⎢         2  -4⋅h     2⋅h     -4⋅h      4⋅h     -8⋅h       2⋅h  ⎥\n",
       "⎢-2⋅h  2⋅h   ──────   ────    ──────    ────    ──────     ──── ⎥\n",
       "⎢              3       3        15       45      315       315  ⎥\n",
       "⎢                                                               ⎥\n",
       "⎢         2      3        4       5        6         7         8⎥\n",
       "⎢      9⋅h   -9⋅h     27⋅h   -81⋅h     81⋅h    -243⋅h     729⋅h ⎥\n",
       "⎢-3⋅h  ────  ──────   ─────  ───────   ─────   ────────   ──────⎥\n",
       "⎢       2      2        8       40       80      560       4480 ⎥\n",
       "⎢                                                               ⎥\n",
       "⎢                 3       4        5        6         7        8⎥\n",
       "⎢         2  -32⋅h    32⋅h   -128⋅h    256⋅h   -1024⋅h    512⋅h ⎥\n",
       "⎢-4⋅h  8⋅h   ───────  ─────  ────────  ──────  ─────────  ──────⎥\n",
       "⎣               3       3       15       45       315      315  ⎦"
      ]
     },
     "execution_count": 49,
     "metadata": {},
     "output_type": "execute_result"
    }
   ],
   "source": [
    "matrix = sym.Matrix([\n",
    "                    [4*h,(4*h)**2/2,(4*h)**3/6,(4*h)**4/24,(4*h)**5/120,(4*h)**6/720,(4*h)**7/5040,(4*h)**8/40320],\n",
    "                    [3*h,(3*h)**2/2,(3*h)**3/6,(3*h)**4/24,(3*h)**5/120,(3*h)**6/720,(3*h)**7/5040,(3*h)**8/40320],\n",
    "                    [2*h,(2*h)**2/2,(2*h)**3/6,(2*h)**4/24,(2*h)**5/120,(2*h)**6/720,(2*h)**7/5040,(2*h)**8/40320],\n",
    "                    [h,h**2/2,h**3/6,h**4/24,h**5/120,h**6/720,h**7/5040,h**8/40320],\n",
    "                    [-h,h**2/2,-h**3/6,h**4/24,-h**5/120,h**6/720,-h**7/5040,h**8/40320],\n",
    "                    [-2*h,(2*h)**2/2,-(2*h)**3/6,(2*h)**4/24,-(2*h)**5/120,(2*h)**6/720,-(2*h)**7/5040,(2*h)**8/40320],\n",
    "                    [-3*h,(3*h)**2/2,-(3*h)**3/6,(3*h)**4/24,-(3*h)**5/120,(3*h)**6/720,-(3*h)**7/5040,(3*h)**8/40320],\n",
    "                    [-4*h,(4*h)**2/2,-(4*h)**3/6,(4*h)**4/24,-(4*h)**5/120,(4*h)**6/720,-(4*h)**7/5040,(4*h)**8/40320]\n",
    "                    ])\n",
    "matrix"
   ]
  },
  {
   "cell_type": "code",
   "execution_count": 50,
   "metadata": {},
   "outputs": [
    {
     "data": {
      "image/png": "[encoded data removed]",
      "text/latex": [
       "$\\displaystyle \\left[\\begin{matrix}- \\frac{1}{280 h} & \\frac{4}{105 h} & - \\frac{1}{5 h} & \\frac{4}{5 h} & - \\frac{4}{5 h} & \\frac{1}{5 h} & - \\frac{4}{105 h} & \\frac{1}{280 h}\\\\- \\frac{1}{560 h^{2}} & \\frac{8}{315 h^{2}} & - \\frac{1}{5 h^{2}} & \\frac{8}{5 h^{2}} & \\frac{8}{5 h^{2}} & - \\frac{1}{5 h^{2}} & \\frac{8}{315 h^{2}} & - \\frac{1}{560 h^{2}}\\\\\\frac{7}{240 h^{3}} & - \\frac{3}{10 h^{3}} & \\frac{169}{120 h^{3}} & - \\frac{61}{30 h^{3}} & \\frac{61}{30 h^{3}} & - \\frac{169}{120 h^{3}} & \\frac{3}{10 h^{3}} & - \\frac{7}{240 h^{3}}\\\\\\frac{7}{240 h^{4}} & - \\frac{2}{5 h^{4}} & \\frac{169}{60 h^{4}} & - \\frac{122}{15 h^{4}} & - \\frac{122}{15 h^{4}} & \\frac{169}{60 h^{4}} & - \\frac{2}{5 h^{4}} & \\frac{7}{240 h^{4}}\\\\- \\frac{1}{6 h^{5}} & \\frac{3}{2 h^{5}} & - \\frac{13}{3 h^{5}} & \\frac{29}{6 h^{5}} & - \\frac{29}{6 h^{5}} & \\frac{13}{3 h^{5}} & - \\frac{3}{2 h^{5}} & \\frac{1}{6 h^{5}}\\\\- \\frac{1}{4 h^{6}} & \\frac{3}{h^{6}} & - \\frac{13}{h^{6}} & \\frac{29}{h^{6}} & \\frac{29}{h^{6}} & - \\frac{13}{h^{6}} & \\frac{3}{h^{6}} & - \\frac{1}{4 h^{6}}\\\\\\frac{1}{2 h^{7}} & - \\frac{3}{h^{7}} & \\frac{7}{h^{7}} & - \\frac{7}{h^{7}} & \\frac{7}{h^{7}} & - \\frac{7}{h^{7}} & \\frac{3}{h^{7}} & - \\frac{1}{2 h^{7}}\\\\\\frac{1}{h^{8}} & - \\frac{8}{h^{8}} & \\frac{28}{h^{8}} & - \\frac{56}{h^{8}} & - \\frac{56}{h^{8}} & \\frac{28}{h^{8}} & - \\frac{8}{h^{8}} & \\frac{1}{h^{8}}\\end{matrix}\\right]$"
      ],
      "text/plain": [
       "⎡ -1       4      -1       4     -4      1      -4       1   ⎤\n",
       "⎢─────   ─────    ───     ───    ───    ───    ─────   ───── ⎥\n",
       "⎢280⋅h   105⋅h    5⋅h     5⋅h    5⋅h    5⋅h    105⋅h   280⋅h ⎥\n",
       "⎢                                                            ⎥\n",
       "⎢ -1       8      -1      8      8      -1       8      -1   ⎥\n",
       "⎢──────  ──────   ────   ────   ────    ────   ──────  ──────⎥\n",
       "⎢     2       2      2      2      2       2        2       2⎥\n",
       "⎢560⋅h   315⋅h    5⋅h    5⋅h    5⋅h     5⋅h    315⋅h   560⋅h ⎥\n",
       "⎢                                                            ⎥\n",
       "⎢  7      -3      169     -61     61   -169      3      -7   ⎥\n",
       "⎢──────  ─────   ──────  ─────  ─────  ──────  ─────   ──────⎥\n",
       "⎢     3      3        3      3      3       3      3        3⎥\n",
       "⎢240⋅h   10⋅h    120⋅h   30⋅h   30⋅h   120⋅h   10⋅h    240⋅h ⎥\n",
       "⎢                                                            ⎥\n",
       "⎢  7      -2      169    -122   -122    169     -2       7   ⎥\n",
       "⎢──────   ────   ─────   ─────  ─────  ─────    ────   ──────⎥\n",
       "⎢     4      4       4       4      4      4       4        4⎥\n",
       "⎢240⋅h    5⋅h    60⋅h    15⋅h   15⋅h   60⋅h     5⋅h    240⋅h ⎥\n",
       "⎢                                                            ⎥\n",
       "⎢ -1       3      -13     29    -29      13     -3       1   ⎥\n",
       "⎢ ────    ────    ────   ────   ────    ────    ────    ──── ⎥\n",
       "⎢    5       5       5      5      5       5       5       5 ⎥\n",
       "⎢ 6⋅h     2⋅h     3⋅h    6⋅h    6⋅h     3⋅h     2⋅h     6⋅h  ⎥\n",
       "⎢                                                            ⎥\n",
       "⎢ -1       3      -13     29     29     -13      3      -1   ⎥\n",
       "⎢ ────     ──     ────    ──     ──     ────     ──     ──── ⎥\n",
       "⎢    6      6       6      6      6       6       6        6 ⎥\n",
       "⎢ 4⋅h      h       h      h      h       h       h      4⋅h  ⎥\n",
       "⎢                                                            ⎥\n",
       "⎢  1      -3       7      -7     7      -7       3      -1   ⎥\n",
       "⎢ ────    ───      ──     ───    ──     ───      ──     ──── ⎥\n",
       "⎢    7      7       7       7     7       7       7        7 ⎥\n",
       "⎢ 2⋅h      h       h       h     h       h       h      2⋅h  ⎥\n",
       "⎢                                                            ⎥\n",
       "⎢  1      -8       28    -56    -56      28     -8       1   ⎥\n",
       "⎢  ──     ───      ──    ────   ────     ──     ───      ──  ⎥\n",
       "⎢   8       8       8      8      8       8       8       8  ⎥\n",
       "⎣  h       h       h      h      h       h       h       h   ⎦"
      ]
     },
     "execution_count": 50,
     "metadata": {},
     "output_type": "execute_result"
    }
   ],
   "source": [
    "matrix.inv()"
   ]
  },
  {
   "cell_type": "markdown",
   "metadata": {},
   "source": [
    "|   |    |    |     |     |     |    |    |   |\n",
    "|:---:|:---:|:---:|:---:|:---:|:---:|:---:|:---:|:---:|\n",
    "|   |    |    |     | 1   |     |    |    |   |\n",
    "|   |    |    | 1   | -2  | 1   |    |    |   |\n",
    "|   |    | 1  | -4  | 6   | -4  | 1  |    |   |\n",
    "|   | 1  | -6 | 15  | -20 | 15  | -6 | 1  |   |\n",
    "| 1 | -8 | 28 | -56 | 70  | -56 | 28 | -8 | 1 |\n",
    "\n",
    "\n",
    "used tableconvert.com"
   ]
  },
  {
   "cell_type": "code",
   "execution_count": 2,
   "metadata": {},
   "outputs": [],
   "source": [
    "from sympy import *"
   ]
  },
  {
   "cell_type": "code",
   "execution_count": 8,
   "metadata": {},
   "outputs": [
    {
     "name": "stdout",
     "output_type": "stream",
     "text": [
      "x/h**2 - 2/h**2 + 1/(h**2*x)\n",
      "x**2/h**4 - 4*x/h**4 + 6/h**4 - 4/(h**4*x) + 1/(h**4*x**2)\n",
      "x**3/h**6 - 6*x**2/h**6 + 15*x/h**6 - 20/h**6 + 15/(h**6*x) - 6/(h**6*x**2) + 1/(h**6*x**3)\n",
      "x**4/h**8 - 8*x**3/h**8 + 28*x**2/h**8 - 56*x/h**8 + 70/h**8 - 56/(h**8*x) + 28/(h**8*x**2) - 8/(h**8*x**3) + 1/(h**8*x**4)\n"
     ]
    }
   ],
   "source": [
    "x,h, Delta = symbols('x, h, Delta')\n",
    "\n",
    "c = (1/x - 2 + x)/h**2\n",
    "print(expand(c))\n",
    "print(expand(c**2))\n",
    "print(expand(c**3))\n",
    "print(expand(c**4))"
   ]
  },
  {
   "cell_type": "code",
   "execution_count": 9,
   "metadata": {},
   "outputs": [
    {
     "name": "stdout",
     "output_type": "stream",
     "text": [
      "Delta - 1\n",
      "Delta**2 - 2*Delta + 1\n",
      "Delta**3 - 3*Delta**2 + 3*Delta - 1\n",
      "Delta**4 - 4*Delta**3 + 6*Delta**2 - 4*Delta + 1\n"
     ]
    }
   ],
   "source": [
    "d=(Delta-1)\n",
    "print(expand(d))\n",
    "print(expand(d**2))\n",
    "print(expand(d**3))\n",
    "print(expand(d**4))"
   ]
  },
  {
   "cell_type": "markdown",
   "metadata": {},
   "source": [
    "We have the formula:\n",
    "$$\n",
    "\\frac{d^n}{dx^n} \\,f(x)=\\lim_{h\\to 0}\n",
    "\\frac\n",
    "{f(x+nh)-\\binom{n}{1}f(x+(n-1)h)+\\binom{n}{2}f(x+(n-2)h)+\\cdots (-1)^k\\binom{n}{k}f(x+(n-k) h)+\\cdots }\n",
    "{h^n}\n",
    "$$\n",
    "\n",
    "Let us prove it for $n=3$ where:\n",
    "$$\n",
    "\\lim_{h\\to0}\\frac{f(x+3h)-3f(x+2h)+3f(x+h)-f(x)}{h^{3}}\n",
    "$$\n",
    "is indeterminant limit of type $\\frac{0}{0}$. (Note that the\n",
    "numerator, for $h=0$, is equal to $(1-1)^{3}f(x)=0$. Thus L'Hôpital\n",
    "rule can be invoked repeatedly with differentiation is with respect\n",
    "to $h$.\n",
    "$$\n",
    "\\begin{multline*}\n",
    "\\lim_{h\\to0}\\frac{f(x+3h)-3f(x+2h)+3f(x+h)-f(x)}{h^{3}}\\\\\n",
    "=\\lim_{h\\to0}\\frac{3f^{\\prime}(x+3h)-6f^{\\prime}(x+2h)+3f^{\\prime}(x+h)}{3h^{2}}\\\\\n",
    "=\\lim_{h\\to0}\\frac{9f^{\\prime\\prime}(x+3h)-12f^{\\prime\\prime}(x+2h)+3f^{\\prime\\prime}(x+h)}{6h}\\\\\n",
    "=\\lim_{h\\to0}\\frac{27f^{\\prime\\prime\\prime}(x+3h)-24f^{\\prime\\prime\\prime}(x+2h)+3f^{\\prime\\prime\\prime}(x+h)}{6}\\\\\n",
    "=\\frac{27f^{\\prime\\prime\\prime}(x)-24f^{\\prime\\prime\\prime}(x)+3f^{\\prime\\prime\\prime}(x)}{6}=\\frac{6f^{\\prime\\prime\\prime}(x)}{6}=f^{\\prime\\prime\\prime}(x)\n",
    "\\end{multline*}\n",
    "$$\n",
    "\n",
    "\n",
    "Let us check this out, say, by looking at derivatives of $\\sin(x)$ at 1 radians."
   ]
  },
  {
   "cell_type": "code",
   "execution_count": 22,
   "metadata": {},
   "outputs": [
    {
     "name": "stdout",
     "output_type": "stream",
     "text": [
      "25.20000000000024\n",
      "24.600000000005192\n",
      "24.299999999999496\n",
      "24.060000000076798\n",
      "24.005999947007695\n",
      "24.000603104923357\n"
     ]
    }
   ],
   "source": [
    "def binomial(n, r):\n",
    "    ''' Binomial coefficient, nCr, aka the \"choose\" function \n",
    "        n! / (r! * (n - r)!)\n",
    "        borrowed from https://stackoverflow.com/questions/26560726/python-binomial-coefficient\n",
    "        Most recent \n",
    "    '''\n",
    "    p = 1    \n",
    "    for i in range(1, min(r, n - r) + 1):\n",
    "        p *= n\n",
    "        p //= i\n",
    "        n -= 1\n",
    "    return p\n",
    "\n",
    "# write a function that takes a function f(x) and integer n and gives us the function Delta_n_h\n",
    "\n",
    "def Delta_n_h(f,n,x,h):\n",
    "    result = 0.0\n",
    "    for k in range(n+1):\n",
    "        result += (-1)**k * binomial(n, k) * f(x+(n-k)*h)\n",
    "    return result\n",
    "\n",
    "def my_cube(x):\n",
    "    return x**3\n",
    "\n",
    "h = 0.2\n",
    "print(Delta_n_h(my_cube,2,4,h)/h**2)\n",
    "h = 0.1\n",
    "print(Delta_n_h(my_cube,2,4,h)/h**2)\n",
    "h = 0.05\n",
    "print(Delta_n_h(my_cube,2,4,h)/h**2)\n",
    "h = 0.01\n",
    "print(Delta_n_h(my_cube,2,4,h)/h**2)\n",
    "h = 0.001\n",
    "print(Delta_n_h(my_cube,2,4,h)/h**2)\n",
    "h = 0.0001\n",
    "print(Delta_n_h(my_cube,2,4,h)/h**2)\n",
    "\n"
   ]
  },
  {
   "cell_type": "code",
   "execution_count": 11,
   "metadata": {},
   "outputs": [
    {
     "ename": "NameError",
     "evalue": "name 'math' is not defined",
     "output_type": "error",
     "traceback": [
      "\u001b[0;31m---------------------------------------------------------------------------\u001b[0m",
      "\u001b[0;31mNameError\u001b[0m                                 Traceback (most recent call last)",
      "\u001b[0;32m<ipython-input-11-7f32b4f56d19>\u001b[0m in \u001b[0;36m<module>\u001b[0;34m\u001b[0m\n\u001b[0;32m----> 1\u001b[0;31m \u001b[0mmath\u001b[0m\u001b[0;34m.\u001b[0m\u001b[0mcomb\u001b[0m\u001b[0;34m(\u001b[0m\u001b[0;36m5\u001b[0m\u001b[0;34m,\u001b[0m\u001b[0;36m4\u001b[0m\u001b[0;34m)\u001b[0m\u001b[0;34m\u001b[0m\u001b[0;34m\u001b[0m\u001b[0m\n\u001b[0m",
      "\u001b[0;31mNameError\u001b[0m: name 'math' is not defined"
     ]
    }
   ],
   "source": [
    "math.comb(5,4)"
   ]
  },
  {
   "cell_type": "code",
   "execution_count": null,
   "metadata": {},
   "outputs": [],
   "source": []
  }
 ],
 "metadata": {
  "kernelspec": {
   "display_name": "Python 3",
   "language": "python",
   "name": "python3"
  },
  "language_info": {
   "codemirror_mode": {
    "name": "ipython",
    "version": 3
   },
   "file_extension": ".py",
   "mimetype": "text/x-python",
   "name": "python",
   "nbconvert_exporter": "python",
   "pygments_lexer": "ipython3",
   "version": "3.7.6"
  }
 },
 "nbformat": 4,
 "nbformat_minor": 4
}
