{
 "cells": [
  {
   "cell_type": "markdown",
   "metadata": {},
   "source": [
    "# The numpy gradient method"
   ]
  },
  {
   "cell_type": "markdown",
   "metadata": {},
   "source": [
    "Here we look the numpy gradient method and explain the mathematics behind it. The situation is that we have a function known at discrete points. The gradient method will approximate the \"derivative\" of this function. The simpler situation is where the points are evenly spaced as illustrated by the first graph, but the gradient method can handle irregularly spaced points as well as in the second graph: "
   ]
  },
  {
   "cell_type": "code",
   "execution_count": 1,
   "metadata": {},
   "outputs": [
    {
     "data": {
      "text/plain": [
       "[<matplotlib.lines.Line2D at 0x7f4ce8a29c10>]"
      ]
     },
     "execution_count": 1,
     "metadata": {},
     "output_type": "execute_result"
    },
    {
     "data": {
      "image/png": "[encoded data removed]",
      "text/plain": [
       "<Figure size 432x288 with 2 Axes>"
      ]
     },
     "metadata": {
      "needs_background": "light"
     },
     "output_type": "display_data"
    }
   ],
   "source": [
    "import numpy as np\n",
    "import matplotlib.pyplot as plt\n",
    "\n",
    "x = np.arange(0,1.7,0.1)\n",
    "y = x*x\n",
    "\n",
    "f, (ax1, ax2) = plt.subplots(1, 2, sharey=True)\n",
    "ax1.plot(x, y)\n",
    "ax1.plot([0.6,0.9,1.2,1.5],[0.36,.81,1.44, 2.25],'ro')\n",
    "\n",
    "ax2.plot(x, y)\n",
    "ax2.plot([0.6,0.9,1.4,1.5],[0.36,.81,1.96,2.25],'ro')"
   ]
  },
  {
   "cell_type": "markdown",
   "metadata": {},
   "source": [
    "The starting point is the Taylor series approximation formula. For a $C^2$ continuous function:\n",
    "\n",
    "$$f(x+h)=f(x)+f^{\\prime}(x)h+f^{\\prime\\prime}(\\xi)\\frac{h^{2}}{2},\\qquad\\xi\\in(x,x+h).$$"
   ]
  },
  {
   "cell_type": "markdown",
   "metadata": {},
   "source": [
    "We may solve for $f^\\prime(x)$ and obtain the first order approximation\n",
    "$$\n",
    "f^{\\prime}(x)=\\frac{f(x+h)-f(x)}{h}+O(h).\n",
    "$$\n",
    "Can we do better than this? Yes indeed. "
   ]
  },
  {
   "cell_type": "markdown",
   "metadata": {},
   "source": [
    "We assume that the function $C^3$. The Taylor series theorem than gives us\n",
    "$$\n",
    "f(x+h)=f(x)+f^{\\prime}(x)h+f^{\\prime\\prime}(x)\\frac{h^{2}}{2}+f^{\\prime\\prime\\prime}(\\xi_{+})\\frac{h^{3}}{6}\n",
    "$$\n",
    "We also have the formula replacing $h$ with $-h$:\n",
    "$$\n",
    "f(x-h)=f(x)-f^{\\prime}(x)h+f^{\\prime\\prime}(x)\\frac{h^{2}}{2}-f^{\\prime\\prime\\prime}(\\xi_{-})\\frac{h^{3}}{6}\n",
    "$$\n",
    "Subtracting these two formulas a a miracle happens, the $f(x)$ term _and_ the $f^{\\prime\\prime}(x)$ terms vanish. Again we solve for $f^{\\prime}(x)$ to find:\n",
    "$$\n",
    "f^{\\prime}(x)=\\frac{f(x+h)-f(x-h)}{2h}+\\left(f^{\\prime\\prime\\prime}(\\xi_{+})+f^{\\prime\\prime\\prime}(\\xi_{-})\\right)\\frac{h^{2}}{12}\n",
    "$$\n",
    "or \n",
    "$$\n",
    "f^{\\prime}(x)=\\frac{f(x+h)-f(x-h)}{2h}+O(h^{2})\n",
    "$$\n",
    "\n",
    "Let us try this out manually. We assume a function on a uniformly intervals, say customers visiting a small shop on given days. Suppose $f(0)=3,f(1)=6,f(2)"
   ]
  },
  {
   "cell_type": "code",
   "execution_count": null,
   "metadata": {},
   "outputs": [],
   "source": []
  }
 ],
 "metadata": {
  "kernelspec": {
   "display_name": "Python 3",
   "language": "python",
   "name": "python3"
  },
  "language_info": {
   "codemirror_mode": {
    "name": "ipython",
    "version": 3
   },
   "file_extension": ".py",
   "mimetype": "text/x-python",
   "name": "python",
   "nbconvert_exporter": "python",
   "pygments_lexer": "ipython3",
   "version": "3.7.6"
  }
 },
 "nbformat": 4,
 "nbformat_minor": 4
}
