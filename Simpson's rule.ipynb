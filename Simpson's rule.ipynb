{
 "cells": [
  {
   "cell_type": "markdown",
   "metadata": {},
   "source": [
    "**Simpson's rulefor numerical integration:**\n",
    "$$\n",
    "\\begin{align}\n",
    "  \\int_a^b f(x)\\, dx\n",
    "  &\\approx \\frac{1}{3} h\\sum_{i = 1}^{n/2}\\big[f(x_{2i - 2}) + 4f(x_{2i - 1}) + f(x_{2i})\\big]\\\\\n",
    "  &= \\frac{1}{3} h\\big[f(x_0) + 4f(x_1) + 2f(x_2) + 4f(x_3) + 2f(x_4) + \\ldots + 2f(x_{n - 2}) + 4f(x_{n - 1}) + f(x_n)\\big]\\\\\n",
    "  &= \\frac{1}{3} h\\bigg[f(x_0) + 4\\sum_{i = 1}^{n/2} f(x_{2i - 1}) + 2\\sum_{i = 1}^{n/2 - 1} f(x_{2i}) + f(x_n)\\bigg].\n",
    "\\end{align}\n",
    "$$\n",
    "We can implement this with:"
   ]
  },
  {
   "cell_type": "code",
   "execution_count": 1,
   "metadata": {},
   "outputs": [],
   "source": [
    "import numpy as np\n",
    "\n",
    "\n",
    "def Simp(f,a,b,n):\n",
    "    if n % 2 == 0: n += 1  # n needs to be odd.\n",
    "    h = (b-a)/(n-1)\n",
    "\n",
    "    x = np.linspace(a,b,n) \n",
    "    y = f(x)\n",
    "    return (h/3)*(2*sum(y[::2])-y[0]-y[-1] + 4*sum(y[1::2]))\n"
   ]
  },
  {
   "cell_type": "markdown",
   "metadata": {},
   "source": [
    "We can check this with..."
   ]
  },
  {
   "cell_type": "code",
   "execution_count": 4,
   "metadata": {},
   "outputs": [
    {
     "name": "stdout",
     "output_type": "stream",
     "text": [
      "2.0000526241591357\n"
     ]
    }
   ],
   "source": [
    "def my_sin(x):\n",
    "    return np.sin(x)\n",
    "\n",
    "print(Simp(my_sin,0,3.14159,11))"
   ]
  },
  {
   "cell_type": "markdown",
   "metadata": {},
   "source": [
    "The exact answer is:\n",
    "$$\n",
    "\\int_0^\\pi \\sin(x)\\,dx=\\left.-\\cos(x)\\right|_{0}^{\\pi}=-\\cos(\\pi)+\\cos(0)=1+1=2\n",
    "$$\n",
    "    "
   ]
  },
  {
   "cell_type": "markdown",
   "metadata": {},
   "source": [
    "We use this to compute the Gamma function\n",
    "$$\n",
    "\\Gamma(z) = \\int_0^\\infty t^{z-1} e^{-t}\\, dt\n",
    "$$\n",
    "We can restrict to where the real part of $z$ is between 1 and 2, i.e., $1<\\Re(z)<2$. This is due to the periodicity of the function:\n",
    "$$\n",
    "\\begin{align}\n",
    "   \\Gamma(z+1) & = z\\int_0^\\infty t^{z-1} e^{-t}\\, dt \\\\\n",
    " &= z\\Gamma(z).\n",
    "\\end{align}\n",
    "$$\n",
    "Let's first concentrate on the value of the gamma function for real arguments. We experiment with how far out we integrate (can't integrate to infinity and beyond!) as well as the number of steps."
   ]
  },
  {
   "cell_type": "code",
   "execution_count": 15,
   "metadata": {},
   "outputs": [
    {
     "name": "stdout",
     "output_type": "stream",
     "text": [
      "a =  0 b =  5 , n_steps =  9 Gamma(2) =  0.9585758072929125\n",
      "a =  0 b =  8 , n_steps =  9 Gamma(2) =  0.9909421990236164\n",
      "a =  0 b =  5 , n_steps =  21 Gamma(2) =  0.9595281035332567\n",
      "a =  0 b =  8 , n_steps =  21 Gamma(2) =  0.9966967555790628\n",
      "a =  0 b =  12 , n_steps =  21 Gamma(2) =  0.9985282146549699\n",
      "a =  0 b =  12 , n_steps =  49 Gamma(2) =  0.9998654548691872\n",
      "a =  0 b =  15 , n_steps =  21 Gamma(2) =  0.9967041037096536\n",
      "a =  0 b =  15 , n_steps =  31 Gamma(2) =  0.9992244211606454\n",
      "a =  0 b =  20 , n_steps =  51 Gamma(2) =  0.9996457167081246\n",
      "a =  0 b =  20 , n_steps =  81 Gamma(2) =  0.9999416656823318\n"
     ]
    }
   ],
   "source": [
    "z = 2\n",
    "def integrand(t):\n",
    "    return t**(z-1)*np.exp(-t)\n",
    "\n",
    "a = 0\n",
    "b = 5\n",
    "n = 9\n",
    "Gamma2 = Simp(integrand,a,b,n)\n",
    "print(\"a = \", a, \"b = \",b,\", n_steps = \", n, \"Gamma(2) = \", Gamma2)\n",
    "\n",
    "\n",
    "a = 0\n",
    "b = 8\n",
    "n = 9\n",
    "Gamma2 = Simp(integrand,a,b,n)\n",
    "print(\"a = \", a, \"b = \",b,\", n_steps = \", n, \"Gamma(2) = \", Gamma2)\n",
    "\n",
    "\n",
    "a = 0\n",
    "b = 5\n",
    "n = 21\n",
    "Gamma2 = Simp(integrand,a,b,n)\n",
    "print(\"a = \", a, \"b = \",b,\", n_steps = \", n, \"Gamma(2) = \", Gamma2)\n",
    "\n",
    "a = 0\n",
    "b = 8\n",
    "n = 21\n",
    "Gamma2 = Simp(integrand,a,b,n)\n",
    "print(\"a = \", a, \"b = \",b,\", n_steps = \", n, \"Gamma(2) = \", Gamma2)\n",
    "\n",
    "a = 0\n",
    "b = 12\n",
    "n = 21\n",
    "Gamma2 = Simp(integrand,a,b,n)\n",
    "print(\"a = \", a, \"b = \",b,\", n_steps = \", n, \"Gamma(2) = \", Gamma2)\n",
    "\n",
    "a = 0\n",
    "b = 12\n",
    "n = 49\n",
    "Gamma2 = Simp(integrand,a,b,n)\n",
    "print(\"a = \", a, \"b = \",b,\", n_steps = \", n, \"Gamma(2) = \", Gamma2)\n",
    "\n",
    "a = 0\n",
    "b = 15\n",
    "n = 21\n",
    "Gamma2 = Simp(integrand,a,b,n)\n",
    "print(\"a = \", a, \"b = \",b,\", n_steps = \", n, \"Gamma(2) = \", Gamma2)\n",
    "\n",
    "\n",
    "a = 0\n",
    "b = 15\n",
    "n = 31\n",
    "Gamma2 = Simp(integrand,a,b,n)\n",
    "print(\"a = \", a, \"b = \",b,\", n_steps = \", n, \"Gamma(2) = \", Gamma2)\n",
    "\n",
    "a = 0\n",
    "b = 20\n",
    "n = 51\n",
    "Gamma2 = Simp(integrand,a,b,n)\n",
    "print(\"a = \", a, \"b = \",b,\", n_steps = \", n, \"Gamma(2) = \", Gamma2)\n",
    "\n",
    "a = 0\n",
    "b = 20\n",
    "n = 81\n",
    "Gamma2 = Simp(integrand,a,b,n)\n",
    "print(\"a = \", a, \"b = \",b,\", n_steps = \", n, \"Gamma(2) = \", Gamma2)\n"
   ]
  },
  {
   "cell_type": "markdown",
   "metadata": {},
   "source": [
    "For $z=2$ the integrand is $te^{-t}$. Let's look at the integrand for various $t$:"
   ]
  },
  {
   "cell_type": "code",
   "execution_count": 16,
   "metadata": {},
   "outputs": [
    {
     "name": "stdout",
     "output_type": "stream",
     "text": [
      "t =  4  the integrand is  0.07326255555493671\n",
      "t =  6  the integrand is  0.014872513059998151\n",
      "t =  8  the integrand is  0.002683701023220095\n",
      "t =  10  the integrand is  0.00045399929762484856\n",
      "t =  12  the integrand is  7.373054823993851e-05\n",
      "t =  20  the integrand is  4.122307244877116e-08\n"
     ]
    }
   ],
   "source": [
    "for t in [4,6,8,10,12,20]:\n",
    "    print(\"t = \", t,\" the integrand is \", t*np.exp(-t))"
   ]
  },
  {
   "cell_type": "markdown",
   "metadata": {},
   "source": [
    "It seems that $b=15$ and the number of steps equal to 31 is more than adequate. "
   ]
  },
  {
   "cell_type": "code",
   "execution_count": 25,
   "metadata": {},
   "outputs": [
    {
     "data": {
      "image/png": "[encoded data removed]",
      "text/plain": [
       "<Figure size 432x288 with 1 Axes>"
      ]
     },
     "metadata": {
      "needs_background": "light"
     },
     "output_type": "display_data"
    }
   ],
   "source": [
    "\n",
    "def integrand(t,z):\n",
    "    return t**(z-1)*np.exp(-t)\n",
    "\n",
    "\n",
    "\n",
    "def Gamma(z):\n",
    "    if z.real > 2: \n",
    "        return (z-1)*Gamma(z-1)\n",
    "    elif z.real < 1:\n",
    "        return Gamma(z+1)/z\n",
    "    else:\n",
    "        a=0;b=15;n=101\n",
    "        h = (b-a)/(n-1)\n",
    "        t = np.linspace(a,b,n) \n",
    "        y = integrand(t,z)\n",
    "        return (h/3)*(2*sum(y[::2])-y[0]-y[-1] + 4*sum(y[1::2]))\n",
    "\n",
    "    \n",
    "z = np.linspace(.1,5,100)\n",
    "y = []\n",
    "for x in z:\n",
    "    y.append(Gamma(x))\n",
    "\n",
    "    \n",
    "\n",
    "import matplotlib.pyplot as plt\n",
    "plt.plot(z,y)\n",
    "plt.ylabel('Gamma function')\n",
    "plt.show()\n",
    "\n"
   ]
  },
  {
   "cell_type": "code",
   "execution_count": null,
   "metadata": {},
   "outputs": [],
   "source": []
  }
 ],
 "metadata": {
  "kernelspec": {
   "display_name": "Python 3",
   "language": "python",
   "name": "python3"
  },
  "language_info": {
   "codemirror_mode": {
    "name": "ipython",
    "version": 3
   },
   "file_extension": ".py",
   "mimetype": "text/x-python",
   "name": "python",
   "nbconvert_exporter": "python",
   "pygments_lexer": "ipython3",
   "version": "3.7.6"
  }
 },
 "nbformat": 4,
 "nbformat_minor": 4
}
