{
 "cells": [
  {
   "cell_type": "markdown",
   "metadata": {},
   "source": [
    "# Fun with p-adic numbers\n",
    "Recall that p-adic numbers are are an infinite sequence to the left of the \"decimal\" point and finite sequence after the \"decimal\" point. E.g.,...\n",
    "\n",
    "$$\n",
    "\\begin{gather*}\n",
    "345._{7}543=\\ldots000345._{7}543\\\\\n",
    "\\ldots1212._{3}12\\\\\n",
    "\\ldots1010._{2}\\\\\n",
    "\\ldots999._{10}(=-1\\qquad\\textrm{we will see this later )}\\\\\n",
    "\\ldots0013._{7}(=1\\times7^{1}+3\\times7^{0})\\quad\\textrm{etc. }\n",
    "\\end{gather*}\n",
    "$$\n",
    "The $p$-adic integers are those without entries to the right of the \"decimal point\" but possibly infinite to the left, e.g., the last three examples above."
   ]
  },
  {
   "cell_type": "code",
   "execution_count": null,
   "metadata": {},
   "outputs": [],
   "source": []
  }
 ],
 "metadata": {
  "kernelspec": {
   "display_name": "Python 3",
   "language": "python",
   "name": "python3"
  },
  "language_info": {
   "codemirror_mode": {
    "name": "ipython",
    "version": 3
   },
   "file_extension": ".py",
   "mimetype": "text/x-python",
   "name": "python",
   "nbconvert_exporter": "python",
   "pygments_lexer": "ipython3",
   "version": "3.7.6"
  }
 },
 "nbformat": 4,
 "nbformat_minor": 4
}
